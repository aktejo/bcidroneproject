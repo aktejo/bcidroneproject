        "    def plot_confusion_matrix(self, test_dataset, classes=None):\n",
        "        if classes is None:\n",
        "            classes = sorted(set(y_true) | set(y_pred))\n",
        "        cf_matrix = confusion_matrix(y_true, y_pred, labels=classes)\n",
        "print(\"Test-set labels present:\", dict(zip(unique, counts)))\n"
        "y_true, y_pred = eval_model.plot_confusion_matrix(test_dataset)\n"
}
